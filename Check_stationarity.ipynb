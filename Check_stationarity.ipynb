{
 "cells": [
  {
   "cell_type": "code",
   "execution_count": 1,
   "id": "1c7ec599",
   "metadata": {},
   "outputs": [],
   "source": [
    "import pandas as pd"
   ]
  },
  {
   "cell_type": "code",
   "execution_count": 2,
   "id": "13566563",
   "metadata": {},
   "outputs": [],
   "source": [
    "data=pd.read_excel('Book1.xlsx')"
   ]
  },
  {
   "cell_type": "code",
   "execution_count": 3,
   "id": "03ad6eae",
   "metadata": {
    "scrolled": true
   },
   "outputs": [
    {
     "data": {
      "text/html": [
       "<div>\n",
       "<style scoped>\n",
       "    .dataframe tbody tr th:only-of-type {\n",
       "        vertical-align: middle;\n",
       "    }\n",
       "\n",
       "    .dataframe tbody tr th {\n",
       "        vertical-align: top;\n",
       "    }\n",
       "\n",
       "    .dataframe thead th {\n",
       "        text-align: right;\n",
       "    }\n",
       "</style>\n",
       "<table border=\"1\" class=\"dataframe\">\n",
       "  <thead>\n",
       "    <tr style=\"text-align: right;\">\n",
       "      <th></th>\n",
       "      <th>any</th>\n",
       "      <th>Unnamed: 1</th>\n",
       "    </tr>\n",
       "  </thead>\n",
       "  <tbody>\n",
       "    <tr>\n",
       "      <th>0</th>\n",
       "      <td>1780</td>\n",
       "      <td>14.07500</td>\n",
       "    </tr>\n",
       "    <tr>\n",
       "      <th>1</th>\n",
       "      <td>1781</td>\n",
       "      <td>14.71667</td>\n",
       "    </tr>\n",
       "    <tr>\n",
       "      <th>2</th>\n",
       "      <td>1782</td>\n",
       "      <td>13.63333</td>\n",
       "    </tr>\n",
       "    <tr>\n",
       "      <th>3</th>\n",
       "      <td>1783</td>\n",
       "      <td>14.40000</td>\n",
       "    </tr>\n",
       "    <tr>\n",
       "      <th>4</th>\n",
       "      <td>1784</td>\n",
       "      <td>13.61667</td>\n",
       "    </tr>\n",
       "    <tr>\n",
       "      <th>5</th>\n",
       "      <td>1785</td>\n",
       "      <td>14.15833</td>\n",
       "    </tr>\n",
       "    <tr>\n",
       "      <th>6</th>\n",
       "      <td>1786</td>\n",
       "      <td>14.19167</td>\n",
       "    </tr>\n",
       "    <tr>\n",
       "      <th>7</th>\n",
       "      <td>1787</td>\n",
       "      <td>14.02500</td>\n",
       "    </tr>\n",
       "    <tr>\n",
       "      <th>8</th>\n",
       "      <td>1788</td>\n",
       "      <td>14.27500</td>\n",
       "    </tr>\n",
       "  </tbody>\n",
       "</table>\n",
       "</div>"
      ],
      "text/plain": [
       "   any   Unnamed: 1\n",
       "0  1780    14.07500\n",
       "1  1781    14.71667\n",
       "2  1782    13.63333\n",
       "3  1783    14.40000\n",
       "4  1784    13.61667\n",
       "5  1785    14.15833\n",
       "6  1786    14.19167\n",
       "7  1787    14.02500\n",
       "8  1788    14.27500"
      ]
     },
     "execution_count": 3,
     "metadata": {},
     "output_type": "execute_result"
    }
   ],
   "source": [
    "data"
   ]
  },
  {
   "cell_type": "code",
   "execution_count": 7,
   "id": "491e4f55",
   "metadata": {},
   "outputs": [],
   "source": [
    "data.set_index('any ',inplace=True)"
   ]
  },
  {
   "cell_type": "markdown",
   "id": "f2658ac7",
   "metadata": {},
   "source": [
    "# 1)  Augmented Dickey-Fuller (ADF) test :- \n",
    "## In this test Null Hypothesis= series is non-stationary and alternate Hypothesis= series is stationary \n",
    "## if the p_value is less than the signfiance level then null hypothesis is rejected, while if the p_value is more than the signifance level then null hypothesis is accepted."
   ]
  },
  {
   "cell_type": "code",
   "execution_count": 5,
   "id": "55418492",
   "metadata": {},
   "outputs": [],
   "source": [
    "from statsmodels.tsa.stattools import adfuller"
   ]
  },
  {
   "cell_type": "code",
   "execution_count": 8,
   "id": "af6d3325",
   "metadata": {},
   "outputs": [],
   "source": [
    "result=adfuller(data)"
   ]
  },
  {
   "cell_type": "code",
   "execution_count": 9,
   "id": "04496894",
   "metadata": {},
   "outputs": [
    {
     "name": "stdout",
     "output_type": "stream",
     "text": [
      "(-5.405351183959321, 3.3006388045759485e-06, 0, 8, {'1%': -4.6651863281249994, '5%': -3.3671868750000002, '10%': -2.802960625}, -0.5059077890501857)\n"
     ]
    }
   ],
   "source": [
    "print(result)"
   ]
  },
  {
   "cell_type": "code",
   "execution_count": 21,
   "id": "3af9cae6",
   "metadata": {},
   "outputs": [
    {
     "name": "stdout",
     "output_type": "stream",
     "text": [
      "Test statstics = -5.405351183959321\n"
     ]
    }
   ],
   "source": [
    "print(\"Test statstics =\",result[0])"
   ]
  },
  {
   "cell_type": "code",
   "execution_count": 18,
   "id": "685cb187",
   "metadata": {},
   "outputs": [
    {
     "name": "stdout",
     "output_type": "stream",
     "text": [
      "p_value= 3.3006388045759485e-06\n",
      "p-value: 0.000003\n"
     ]
    }
   ],
   "source": [
    "print(\"p_value=\",result[1])\n",
    "print('p-value: %f' % result[1])"
   ]
  },
  {
   "cell_type": "code",
   "execution_count": 19,
   "id": "d6a5538f",
   "metadata": {},
   "outputs": [],
   "source": [
    "# As here we can see the p_value is less than 0.05 so null hypothesis is rejected so we can say series is stationary.\n",
    "# also test statstics is less than the all critical values then null hypothesis is rejected."
   ]
  },
  {
   "cell_type": "code",
   "execution_count": 20,
   "id": "e6b91f98",
   "metadata": {
    "scrolled": true
   },
   "outputs": [
    {
     "name": "stdout",
     "output_type": "stream",
     "text": [
      "critical_values= {'1%': -4.6651863281249994, '5%': -3.3671868750000002, '10%': -2.802960625}\n"
     ]
    }
   ],
   "source": [
    "print(\"critical_values=\",result[4])"
   ]
  },
  {
   "cell_type": "markdown",
   "id": "5c3e7d97",
   "metadata": {},
   "source": [
    "# 2) Kwiatkowski–Phillips–Schmidt–Shin (KPSS):-\n",
    "##  In this test Null Hypothesis= series is stationary and alternate Hypothesis= series is not stationary \n",
    "## consideration of the hypothesis is opposite to ADF"
   ]
  },
  {
   "cell_type": "code",
   "execution_count": 22,
   "id": "60eab53f",
   "metadata": {},
   "outputs": [],
   "source": [
    "from statsmodels.tsa.stattools import kpss"
   ]
  },
  {
   "cell_type": "code",
   "execution_count": 23,
   "id": "521a15fb",
   "metadata": {},
   "outputs": [],
   "source": [
    "result_2=kpss(data)"
   ]
  },
  {
   "cell_type": "code",
   "execution_count": 24,
   "id": "d5cf8fc4",
   "metadata": {},
   "outputs": [
    {
     "name": "stdout",
     "output_type": "stream",
     "text": [
      "(0.3945814111087221, 0.07949077107382668, 6, {'10%': 0.347, '5%': 0.463, '2.5%': 0.574, '1%': 0.739})\n"
     ]
    }
   ],
   "source": [
    "print(result_2)"
   ]
  },
  {
   "cell_type": "code",
   "execution_count": 25,
   "id": "d1f120d4",
   "metadata": {},
   "outputs": [
    {
     "name": "stdout",
     "output_type": "stream",
     "text": [
      "test_statistic 0.3945814111087221\n"
     ]
    }
   ],
   "source": [
    "print('test_statistic',result_2[0])"
   ]
  },
  {
   "cell_type": "code",
   "execution_count": 26,
   "id": "d82f1cb7",
   "metadata": {},
   "outputs": [
    {
     "name": "stdout",
     "output_type": "stream",
     "text": [
      "p_value 0.07949077107382668\n"
     ]
    }
   ],
   "source": [
    "print('p_value',result_2[1])"
   ]
  },
  {
   "cell_type": "code",
   "execution_count": 28,
   "id": "23207bea",
   "metadata": {},
   "outputs": [
    {
     "name": "stdout",
     "output_type": "stream",
     "text": [
      "critical value {'10%': 0.347, '5%': 0.463, '2.5%': 0.574, '1%': 0.739}\n"
     ]
    }
   ],
   "source": [
    "print('critical value',result_2[3])"
   ]
  },
  {
   "cell_type": "code",
   "execution_count": 29,
   "id": "3bf53e9d",
   "metadata": {},
   "outputs": [
    {
     "name": "stdout",
     "output_type": "stream",
     "text": [
      "The time series is stationary.\n"
     ]
    }
   ],
   "source": [
    "if result_2[1] < 0.05:\n",
    "    print('The time series is not stationary.')\n",
    "else:\n",
    "    print('The time series is stationary.')"
   ]
  }
 ],
 "metadata": {
  "kernelspec": {
   "display_name": "Python 3 (ipykernel)",
   "language": "python",
   "name": "python3"
  },
  "language_info": {
   "codemirror_mode": {
    "name": "ipython",
    "version": 3
   },
   "file_extension": ".py",
   "mimetype": "text/x-python",
   "name": "python",
   "nbconvert_exporter": "python",
   "pygments_lexer": "ipython3",
   "version": "3.9.12"
  }
 },
 "nbformat": 4,
 "nbformat_minor": 5
}
