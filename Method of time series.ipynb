{
 "cells": [
  {
   "cell_type": "code",
   "execution_count": 2,
   "id": "22ea0ba1",
   "metadata": {},
   "outputs": [],
   "source": [
    "import pandas as pd"
   ]
  },
  {
   "cell_type": "code",
   "execution_count": 3,
   "id": "1db871c0",
   "metadata": {},
   "outputs": [],
   "source": [
    "data=pd.read_excel('Book1.xlsx')"
   ]
  },
  {
   "cell_type": "code",
   "execution_count": 4,
   "id": "1b64db0b",
   "metadata": {},
   "outputs": [
    {
     "data": {
      "text/html": [
       "<div>\n",
       "<style scoped>\n",
       "    .dataframe tbody tr th:only-of-type {\n",
       "        vertical-align: middle;\n",
       "    }\n",
       "\n",
       "    .dataframe tbody tr th {\n",
       "        vertical-align: top;\n",
       "    }\n",
       "\n",
       "    .dataframe thead th {\n",
       "        text-align: right;\n",
       "    }\n",
       "</style>\n",
       "<table border=\"1\" class=\"dataframe\">\n",
       "  <thead>\n",
       "    <tr style=\"text-align: right;\">\n",
       "      <th></th>\n",
       "      <th>any</th>\n",
       "      <th>Unnamed: 1</th>\n",
       "    </tr>\n",
       "  </thead>\n",
       "  <tbody>\n",
       "    <tr>\n",
       "      <th>0</th>\n",
       "      <td>1780</td>\n",
       "      <td>14.07500</td>\n",
       "    </tr>\n",
       "    <tr>\n",
       "      <th>1</th>\n",
       "      <td>1781</td>\n",
       "      <td>14.71667</td>\n",
       "    </tr>\n",
       "    <tr>\n",
       "      <th>2</th>\n",
       "      <td>1782</td>\n",
       "      <td>13.63333</td>\n",
       "    </tr>\n",
       "    <tr>\n",
       "      <th>3</th>\n",
       "      <td>1783</td>\n",
       "      <td>14.40000</td>\n",
       "    </tr>\n",
       "    <tr>\n",
       "      <th>4</th>\n",
       "      <td>1784</td>\n",
       "      <td>13.61667</td>\n",
       "    </tr>\n",
       "  </tbody>\n",
       "</table>\n",
       "</div>"
      ],
      "text/plain": [
       "   any   Unnamed: 1\n",
       "0  1780    14.07500\n",
       "1  1781    14.71667\n",
       "2  1782    13.63333\n",
       "3  1783    14.40000\n",
       "4  1784    13.61667"
      ]
     },
     "execution_count": 4,
     "metadata": {},
     "output_type": "execute_result"
    }
   ],
   "source": [
    "data.head()"
   ]
  },
  {
   "cell_type": "code",
   "execution_count": 5,
   "id": "f4bd6be1",
   "metadata": {},
   "outputs": [],
   "source": [
    "data.rename(columns={'Unnamed: 1':'values'},inplace=True)"
   ]
  },
  {
   "cell_type": "code",
   "execution_count": 6,
   "id": "e4f1fa6e",
   "metadata": {},
   "outputs": [],
   "source": [
    "data.set_index('any ',inplace=True)"
   ]
  },
  {
   "cell_type": "code",
   "execution_count": 7,
   "id": "b842e20b",
   "metadata": {},
   "outputs": [
    {
     "data": {
      "text/html": [
       "<div>\n",
       "<style scoped>\n",
       "    .dataframe tbody tr th:only-of-type {\n",
       "        vertical-align: middle;\n",
       "    }\n",
       "\n",
       "    .dataframe tbody tr th {\n",
       "        vertical-align: top;\n",
       "    }\n",
       "\n",
       "    .dataframe thead th {\n",
       "        text-align: right;\n",
       "    }\n",
       "</style>\n",
       "<table border=\"1\" class=\"dataframe\">\n",
       "  <thead>\n",
       "    <tr style=\"text-align: right;\">\n",
       "      <th></th>\n",
       "      <th>values</th>\n",
       "    </tr>\n",
       "    <tr>\n",
       "      <th>any</th>\n",
       "      <th></th>\n",
       "    </tr>\n",
       "  </thead>\n",
       "  <tbody>\n",
       "    <tr>\n",
       "      <th>1780</th>\n",
       "      <td>14.07500</td>\n",
       "    </tr>\n",
       "    <tr>\n",
       "      <th>1781</th>\n",
       "      <td>14.71667</td>\n",
       "    </tr>\n",
       "    <tr>\n",
       "      <th>1782</th>\n",
       "      <td>13.63333</td>\n",
       "    </tr>\n",
       "    <tr>\n",
       "      <th>1783</th>\n",
       "      <td>14.40000</td>\n",
       "    </tr>\n",
       "    <tr>\n",
       "      <th>1784</th>\n",
       "      <td>13.61667</td>\n",
       "    </tr>\n",
       "  </tbody>\n",
       "</table>\n",
       "</div>"
      ],
      "text/plain": [
       "        values\n",
       "any           \n",
       "1780  14.07500\n",
       "1781  14.71667\n",
       "1782  13.63333\n",
       "1783  14.40000\n",
       "1784  13.61667"
      ]
     },
     "execution_count": 7,
     "metadata": {},
     "output_type": "execute_result"
    }
   ],
   "source": [
    "data.head()"
   ]
  },
  {
   "cell_type": "markdown",
   "id": "867825b7",
   "metadata": {},
   "source": [
    "# 1) Moving average method -\n",
    "## it is subdivied into three method -\n",
    "### i) Simple Moving Average (SMA):- The SMA is the unweighted mean of the previous M or N points. The selection of sliding window data points, depending on the amount of smoothing is preferred since increasing the value of M or N, improves the smoothing at the expense of accuracy."
   ]
  },
  {
   "cell_type": "code",
   "execution_count": 9,
   "id": "8c2b0909",
   "metadata": {},
   "outputs": [],
   "source": [
    "data[\"SMA\"]=data['values'].rolling(3,min_periods=1).mean() # 3 represent window of three value "
   ]
  },
  {
   "cell_type": "code",
   "execution_count": 11,
   "id": "4f3c205c",
   "metadata": {},
   "outputs": [
    {
     "data": {
      "text/html": [
       "<div>\n",
       "<style scoped>\n",
       "    .dataframe tbody tr th:only-of-type {\n",
       "        vertical-align: middle;\n",
       "    }\n",
       "\n",
       "    .dataframe tbody tr th {\n",
       "        vertical-align: top;\n",
       "    }\n",
       "\n",
       "    .dataframe thead th {\n",
       "        text-align: right;\n",
       "    }\n",
       "</style>\n",
       "<table border=\"1\" class=\"dataframe\">\n",
       "  <thead>\n",
       "    <tr style=\"text-align: right;\">\n",
       "      <th></th>\n",
       "      <th>values</th>\n",
       "      <th>SMA</th>\n",
       "    </tr>\n",
       "    <tr>\n",
       "      <th>any</th>\n",
       "      <th></th>\n",
       "      <th></th>\n",
       "    </tr>\n",
       "  </thead>\n",
       "  <tbody>\n",
       "    <tr>\n",
       "      <th>1780</th>\n",
       "      <td>14.07500</td>\n",
       "      <td>14.075000</td>\n",
       "    </tr>\n",
       "    <tr>\n",
       "      <th>1781</th>\n",
       "      <td>14.71667</td>\n",
       "      <td>14.395835</td>\n",
       "    </tr>\n",
       "    <tr>\n",
       "      <th>1782</th>\n",
       "      <td>13.63333</td>\n",
       "      <td>14.141667</td>\n",
       "    </tr>\n",
       "    <tr>\n",
       "      <th>1783</th>\n",
       "      <td>14.40000</td>\n",
       "      <td>14.250000</td>\n",
       "    </tr>\n",
       "    <tr>\n",
       "      <th>1784</th>\n",
       "      <td>13.61667</td>\n",
       "      <td>13.883333</td>\n",
       "    </tr>\n",
       "  </tbody>\n",
       "</table>\n",
       "</div>"
      ],
      "text/plain": [
       "        values        SMA\n",
       "any                      \n",
       "1780  14.07500  14.075000\n",
       "1781  14.71667  14.395835\n",
       "1782  13.63333  14.141667\n",
       "1783  14.40000  14.250000\n",
       "1784  13.61667  13.883333"
      ]
     },
     "execution_count": 11,
     "metadata": {},
     "output_type": "execute_result"
    }
   ],
   "source": [
    "data.head()"
   ]
  },
  {
   "cell_type": "markdown",
   "id": "63411ac6",
   "metadata": {},
   "source": [
    "### ii) Cumulative moving avarage-The CMA is the unweighted mean of past values, till the current time."
   ]
  },
  {
   "cell_type": "code",
   "execution_count": 16,
   "id": "a75bfc4b",
   "metadata": {},
   "outputs": [],
   "source": [
    "data['CMA']=data['values'].expanding().mean()"
   ]
  },
  {
   "cell_type": "code",
   "execution_count": 17,
   "id": "fed5bb69",
   "metadata": {},
   "outputs": [
    {
     "data": {
      "text/html": [
       "<div>\n",
       "<style scoped>\n",
       "    .dataframe tbody tr th:only-of-type {\n",
       "        vertical-align: middle;\n",
       "    }\n",
       "\n",
       "    .dataframe tbody tr th {\n",
       "        vertical-align: top;\n",
       "    }\n",
       "\n",
       "    .dataframe thead th {\n",
       "        text-align: right;\n",
       "    }\n",
       "</style>\n",
       "<table border=\"1\" class=\"dataframe\">\n",
       "  <thead>\n",
       "    <tr style=\"text-align: right;\">\n",
       "      <th></th>\n",
       "      <th>values</th>\n",
       "      <th>SMA</th>\n",
       "      <th>CMA</th>\n",
       "    </tr>\n",
       "    <tr>\n",
       "      <th>any</th>\n",
       "      <th></th>\n",
       "      <th></th>\n",
       "      <th></th>\n",
       "    </tr>\n",
       "  </thead>\n",
       "  <tbody>\n",
       "    <tr>\n",
       "      <th>1780</th>\n",
       "      <td>14.07500</td>\n",
       "      <td>14.075000</td>\n",
       "      <td>14.075000</td>\n",
       "    </tr>\n",
       "    <tr>\n",
       "      <th>1781</th>\n",
       "      <td>14.71667</td>\n",
       "      <td>14.395835</td>\n",
       "      <td>14.395835</td>\n",
       "    </tr>\n",
       "    <tr>\n",
       "      <th>1782</th>\n",
       "      <td>13.63333</td>\n",
       "      <td>14.141667</td>\n",
       "      <td>14.141667</td>\n",
       "    </tr>\n",
       "    <tr>\n",
       "      <th>1783</th>\n",
       "      <td>14.40000</td>\n",
       "      <td>14.250000</td>\n",
       "      <td>14.206250</td>\n",
       "    </tr>\n",
       "    <tr>\n",
       "      <th>1784</th>\n",
       "      <td>13.61667</td>\n",
       "      <td>13.883333</td>\n",
       "      <td>14.088334</td>\n",
       "    </tr>\n",
       "  </tbody>\n",
       "</table>\n",
       "</div>"
      ],
      "text/plain": [
       "        values        SMA        CMA\n",
       "any                                 \n",
       "1780  14.07500  14.075000  14.075000\n",
       "1781  14.71667  14.395835  14.395835\n",
       "1782  13.63333  14.141667  14.141667\n",
       "1783  14.40000  14.250000  14.206250\n",
       "1784  13.61667  13.883333  14.088334"
      ]
     },
     "execution_count": 17,
     "metadata": {},
     "output_type": "execute_result"
    }
   ],
   "source": [
    "data.head()"
   ]
  },
  {
   "cell_type": "markdown",
   "id": "a1ebac48",
   "metadata": {},
   "source": [
    "### iii) Exponential Moving Average (EMA)- EMA is mainly used to identify trends and to filter out noice.The weights of the elements is decreased gradually over time.These means it gives weights to recent data points, not hsitorical ones. compared with SMA,theEMA is faster to change and more sensitive."
   ]
  },
  {
   "cell_type": "code",
   "execution_count": 18,
   "id": "774dfc5a",
   "metadata": {},
   "outputs": [],
   "source": [
    "data['EMA_alpha_0.1']=data['values'].ewm(alpha=0.1).mean()\n",
    "data['EMA_alpha_0.3']=data['values'].ewm(alpha=0.3).mean()"
   ]
  },
  {
   "cell_type": "code",
   "execution_count": 19,
   "id": "6346f4b1",
   "metadata": {},
   "outputs": [
    {
     "data": {
      "text/html": [
       "<div>\n",
       "<style scoped>\n",
       "    .dataframe tbody tr th:only-of-type {\n",
       "        vertical-align: middle;\n",
       "    }\n",
       "\n",
       "    .dataframe tbody tr th {\n",
       "        vertical-align: top;\n",
       "    }\n",
       "\n",
       "    .dataframe thead th {\n",
       "        text-align: right;\n",
       "    }\n",
       "</style>\n",
       "<table border=\"1\" class=\"dataframe\">\n",
       "  <thead>\n",
       "    <tr style=\"text-align: right;\">\n",
       "      <th></th>\n",
       "      <th>values</th>\n",
       "      <th>SMA</th>\n",
       "      <th>CMA</th>\n",
       "      <th>EMA_alpha_0.1</th>\n",
       "      <th>EMA_alpha_0.3</th>\n",
       "    </tr>\n",
       "    <tr>\n",
       "      <th>any</th>\n",
       "      <th></th>\n",
       "      <th></th>\n",
       "      <th></th>\n",
       "      <th></th>\n",
       "      <th></th>\n",
       "    </tr>\n",
       "  </thead>\n",
       "  <tbody>\n",
       "    <tr>\n",
       "      <th>1780</th>\n",
       "      <td>14.07500</td>\n",
       "      <td>14.075000</td>\n",
       "      <td>14.075000</td>\n",
       "      <td>14.075000</td>\n",
       "      <td>14.075000</td>\n",
       "    </tr>\n",
       "    <tr>\n",
       "      <th>1781</th>\n",
       "      <td>14.71667</td>\n",
       "      <td>14.395835</td>\n",
       "      <td>14.395835</td>\n",
       "      <td>14.412721</td>\n",
       "      <td>14.452453</td>\n",
       "    </tr>\n",
       "    <tr>\n",
       "      <th>1782</th>\n",
       "      <td>13.63333</td>\n",
       "      <td>14.141667</td>\n",
       "      <td>14.141667</td>\n",
       "      <td>14.125123</td>\n",
       "      <td>14.078424</td>\n",
       "    </tr>\n",
       "    <tr>\n",
       "      <th>1783</th>\n",
       "      <td>14.40000</td>\n",
       "      <td>14.250000</td>\n",
       "      <td>14.206250</td>\n",
       "      <td>14.205052</td>\n",
       "      <td>14.205379</td>\n",
       "    </tr>\n",
       "    <tr>\n",
       "      <th>1784</th>\n",
       "      <td>13.61667</td>\n",
       "      <td>13.883333</td>\n",
       "      <td>14.088334</td>\n",
       "      <td>14.061373</td>\n",
       "      <td>13.993086</td>\n",
       "    </tr>\n",
       "  </tbody>\n",
       "</table>\n",
       "</div>"
      ],
      "text/plain": [
       "        values        SMA        CMA  EMA_alpha_0.1  EMA_alpha_0.3\n",
       "any                                                               \n",
       "1780  14.07500  14.075000  14.075000      14.075000      14.075000\n",
       "1781  14.71667  14.395835  14.395835      14.412721      14.452453\n",
       "1782  13.63333  14.141667  14.141667      14.125123      14.078424\n",
       "1783  14.40000  14.250000  14.206250      14.205052      14.205379\n",
       "1784  13.61667  13.883333  14.088334      14.061373      13.993086"
      ]
     },
     "execution_count": 19,
     "metadata": {},
     "output_type": "execute_result"
    }
   ],
   "source": [
    "data.head()"
   ]
  }
 ],
 "metadata": {
  "kernelspec": {
   "display_name": "Python 3 (ipykernel)",
   "language": "python",
   "name": "python3"
  },
  "language_info": {
   "codemirror_mode": {
    "name": "ipython",
    "version": 3
   },
   "file_extension": ".py",
   "mimetype": "text/x-python",
   "name": "python",
   "nbconvert_exporter": "python",
   "pygments_lexer": "ipython3",
   "version": "3.9.12"
  }
 },
 "nbformat": 4,
 "nbformat_minor": 5
}
