{
 "cells": [
  {
   "cell_type": "markdown",
   "id": "da793255",
   "metadata": {},
   "source": [
    "# Time Series "
   ]
  },
  {
   "cell_type": "markdown",
   "id": "bf16028a",
   "metadata": {},
   "source": [
    "## What is time series..?"
   ]
  },
  {
   "cell_type": "code",
   "execution_count": 1,
   "id": "d2b30f83",
   "metadata": {},
   "outputs": [],
   "source": [
    "# A time series is simply the series of data points with time ordered.\n",
    "# means fixing the one or two variables and note there values with respect to time."
   ]
  },
  {
   "cell_type": "markdown",
   "id": "46712fdb",
   "metadata": {},
   "source": [
    "#### Note \n",
    "#### 1)The time variable/feature is the independent variable and supports the target variable to predict the results\n",
    "#### 2)Time Series Analysis (TSA) is used in different fields for time-based predictions – like Weather Forecasting, Financial, Signal processing, Engineering domain – Control Systems, Communications Systems.\n",
    "#### 3)Using AR, MA, ARMA, and ARIMA models, we could predict the future."
   ]
  },
  {
   "cell_type": "markdown",
   "id": "94271ebf",
   "metadata": {},
   "source": [
    "# How to analyze Time Series..?"
   ]
  },
  {
   "cell_type": "code",
   "execution_count": 2,
   "id": "d110f063",
   "metadata": {},
   "outputs": [],
   "source": [
    "# 1) Collecting the data and cleaning it\n",
    "# 2) Preparing Visualization with respect to time vs key feature\n",
    "# 3) Observing the stationarity of the series\n",
    "# 4) Developing charts to understand its nature.\n",
    "# 5) Model building – AR, MA, ARMA and ARIMA\n",
    "# 6) Extracting insights from prediction"
   ]
  },
  {
   "cell_type": "markdown",
   "id": "dab8ec35",
   "metadata": {},
   "source": [
    "# Compoents of Time Serise"
   ]
  },
  {
   "cell_type": "markdown",
   "id": "4631a0f1",
   "metadata": {},
   "source": [
    "### 1) Trend:-In which there is no fixed interval and any divergence within the given dataset is a continuous timeline. The trend would be Negative or Positive or Null Trend\n",
    "\n",
    "### 2) Seasonality:-Seasonal variations are changes in time series that occur in the short term, usually within less than 12 months. They usually show the same pattern of upward or downward growth in the 12-month period of the time series. These variations are often recorded as hourly, daily, weekly, quarterly, and monthly schedules.\n",
    "\n",
    "### 3) Cyclical: In which there is no fixed interval, uncertainty in movement and its pattern\n",
    "\n",
    "### 4) Irregularity: Unexpected situations/events/scenarios and spikes in a short time span."
   ]
  },
  {
   "cell_type": "markdown",
   "id": "fdae19e4",
   "metadata": {},
   "source": [
    "# Assumption for Time Series:-\n",
    "\n",
    "### 1) There is only one assumption in time series, Stationarity\n",
    "\n",
    "### Stationarity in time series refers to a property of a time series where the statistical properties (mean, variance, and autocovariance) do not change over time.\n",
    "\n",
    "### why we need it..?>>> This is because much statistical analysis or model is built upon the assumption that mean and variance are consistent over time"
   ]
  },
  {
   "cell_type": "markdown",
   "id": "6e1097e0",
   "metadata": {},
   "source": [
    "## But how to check stationarity in dataset..?\n",
    "## there are two statstical test available for the stationarity check\n",
    "### 1) Augmented Dickey-Fuller (ADF) Test\n",
    "### 2) Kwiatkowski–Phillips–Schmidt–Shin (KPSS)"
   ]
  },
  {
   "cell_type": "markdown",
   "id": "dd81584a",
   "metadata": {},
   "source": [
    "# What are limitation of Time Series..?\n",
    "### 1) Similar to other models, the missing values are not supported by TSA\n",
    "### 2) The data points must be linear in their relationship.\n",
    "### 3) Data transformations are mandatory, so a little expensive.\n",
    "### 4) Models mostly work on Uni-variate data."
   ]
  },
  {
   "cell_type": "markdown",
   "id": "3b3e97e1",
   "metadata": {},
   "source": [
    "## Data types in Time Series\n",
    "## 1) Stationary\n",
    "## 2) Non Stationary"
   ]
  },
  {
   "cell_type": "markdown",
   "id": "b675e5ec",
   "metadata": {},
   "source": [
    "# How to convert the non-stationary to stationary\n",
    "#### Differencing: Taking the difference between consecutive time steps to remove the trend in the data. This can be done multiple times to achieve stationarity.\n",
    "\n",
    "#### Log transforming: Taking the logarithm of the time series values can reduce the magnitude of the fluctuations and make the series more stationary.\n",
    "\n",
    "#### Seasonal differencing: Taking the difference between consecutive time steps but at a regular interval to remove seasonal patterns.\n",
    "\n",
    "#### Using a combination of differencing and log transforming: This can be effective when a time series has both trend and seasonality.\n",
    "\n",
    "#### Detrending and normalization: Removing the trend and scaling the data so that it has a mean of zero and a variance of one."
   ]
  }
 ],
 "metadata": {
  "kernelspec": {
   "display_name": "Python 3 (ipykernel)",
   "language": "python",
   "name": "python3"
  },
  "language_info": {
   "codemirror_mode": {
    "name": "ipython",
    "version": 3
   },
   "file_extension": ".py",
   "mimetype": "text/x-python",
   "name": "python",
   "nbconvert_exporter": "python",
   "pygments_lexer": "ipython3",
   "version": "3.9.12"
  }
 },
 "nbformat": 4,
 "nbformat_minor": 5
}
